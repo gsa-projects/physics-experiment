{
 "cells": [
  {
   "cell_type": "code",
   "execution_count": 1,
   "metadata": {
    "ExecuteTime": {
     "end_time": "2023-09-23T04:49:08.310642800Z",
     "start_time": "2023-09-23T04:49:02.489080500Z"
    }
   },
   "outputs": [],
   "source": [
    "import pandas as pd\n",
    "import numpy as np\n",
    "import matplotlib.pyplot as plt\n",
    "import matplotlib.patches as patches\n",
    "from matplotlib.axis import Axis\n",
    "from datetime import datetime, timedelta\n",
    "from dataclasses import dataclass, field\n",
    "from sklearn.linear_model import LinearRegression\n",
    "import re"
   ]
  },
  {
   "cell_type": "code",
   "execution_count": 18,
   "metadata": {
    "ExecuteTime": {
     "end_time": "2023-09-23T05:38:47.817800500Z",
     "start_time": "2023-09-23T05:38:47.590713800Z"
    }
   },
   "outputs": [],
   "source": [
    "class Run:\n",
    "    df: pd.DataFrame\n",
    "    units = {}\n",
    "\n",
    "    def __init__(self, df: pd.DataFrame):\n",
    "        self.df = df\n",
    "\n",
    "        for column in self.df.columns:\n",
    "            setattr(self, column, self.df[column])\n",
    "\n",
    "    @property\n",
    "    def properties(self) -> list[str]:\n",
    "        return list(self.df.columns)\n",
    "\n",
    "    def plot(self, x: str | pd.Series, y: str | pd.Series, axis: Axis = None):\n",
    "        if isinstance(x, str):\n",
    "            x = self.df[x]\n",
    "        if isinstance(y, str):\n",
    "            y = self.df[y]\n",
    "\n",
    "        # with plt.ioff():\n",
    "        if axis:\n",
    "            ax = axis\n",
    "        else:\n",
    "            fig, ax = plt.subplots()\n",
    "            \n",
    "        ret = []\n",
    "        ax.plot(x, y)\n",
    "        \n",
    "        if y.name == 'v':\n",
    "            max_idx = y.idxmax()\n",
    "            front = y[:max_idx]\n",
    "            diff = abs(front - front.iloc[0])\n",
    "            min_idx = diff[diff < 0.01].index[-1]\n",
    "    \n",
    "            rectangle = patches.Rectangle((x[min_idx], y[min_idx]), x[max_idx] - x[min_idx], y[max_idx] - y[min_idx],\n",
    "                                          linewidth=3, edgecolor='orange', facecolor='orange', alpha=0.2)\n",
    "    \n",
    "            # print(y[max_idx])\n",
    "            # print(y[min_idx])    \n",
    "            # print(y[min_idx-2:max_idx-1].to_numpy())\n",
    "    \n",
    "            x_space = x[min_idx - 2:max_idx - 1].to_numpy()\n",
    "            y_space = y[min_idx - 2:max_idx - 1].to_numpy()\n",
    "            # print(f\"min: {y_space[0]}, max: {y_space[-1]}\")\n",
    "    \n",
    "            w = (y_space[-1] - y_space[0]) / (x_space[-1] - x_space[0])\n",
    "            b = y_space[0]\n",
    "            ax.plot(x_space, w * (x_space - x_space[0]) + b, color='orange', linewidth=2)\n",
    "            ax.text(0, 0, f'y = {w:.5f}x + {b}', color='orange', fontsize=10)\n",
    "            ax.add_patch(rectangle)\n",
    "            \n",
    "            ret = [w, b]\n",
    "        elif y.name == 'F':\n",
    "            peak_idx = y[abs(y.iloc[0] - y) > 0.1].index[0]\n",
    "            front = y[:peak_idx - 10]\n",
    "            mean = front.mean()\n",
    "            \n",
    "            # ax.axvspan(x[y.index[0]], x[y.index[-1]], color='orange', alpha=0.2)\n",
    "            # axvspan으로 0부터 y가 max가 되는 x까지\n",
    "            ax.axvspan(x[y.index[0]], x[peak_idx], color='orange', alpha=0.2)\n",
    "            ax.axhline(mean, color='orange', linewidth=2)\n",
    "            ax.text(0, 0, f'y = {mean:.5f}', color='orange', fontsize=10)\n",
    "            \n",
    "            ret = [mean]\n",
    "        \n",
    "        ax.set_title(f'{y.name}-{x.name} graph')\n",
    "        ax.set_xlabel(x.name + \" \" + self.units[x.name])\n",
    "        ax.set_ylabel(y.name + \" \" + self.units[y.name])\n",
    "\n",
    "        if not axis:\n",
    "            plt.show()\n",
    "\n",
    "        return ret\n",
    "\n",
    "\n",
    "class Runs:\n",
    "    def __init__(self, path: str = None, runs=None) -> None:\n",
    "        if runs is not None:\n",
    "            self.runs = runs\n",
    "            return\n",
    "\n",
    "        data = pd.read_csv(path)\n",
    "        data = data[\n",
    "            [c for c in data.columns if not (c.startswith('일시') or c.startswith('net') or c.startswith('acc'))]].dropna(\n",
    "            axis=0, how='all')\n",
    "\n",
    "        self.runs = {}\n",
    "        for column in data.columns:\n",
    "            matched = re.match(r'([a-zA-Zㄱ-힣, ]+) (\\(.*\\)) (?:Run|실행) (\\d+)', column)\n",
    "\n",
    "            if not matched:\n",
    "                continue\n",
    "\n",
    "            name = matched.group(1)\n",
    "            unit = matched.group(2)\n",
    "            run_id = int(matched.group(3))\n",
    "\n",
    "            if run_id not in self.runs:\n",
    "                self.runs[run_id] = pd.DataFrame(columns=['t', 'F', 'x', 'v', 'a'])\n",
    "\n",
    "            ko_2_en = {\n",
    "                '시간': 't',\n",
    "                '힘': 'F',\n",
    "                '위치': 'x',\n",
    "                '속도': 'v',\n",
    "                '가속도, 파랑': 'a'\n",
    "            }\n",
    "            \n",
    "            self.runs[run_id][ko_2_en[name]] = data[column]\n",
    "            Run.units[ko_2_en[name]] = unit\n",
    "\n",
    "        for i in self.runs:\n",
    "            self.runs[i] = Run(self.runs[i].dropna(axis=0, how='any'))\n",
    "\n",
    "    def items(self):\n",
    "        return self.runs.items()\n",
    "\n",
    "    @property\n",
    "    def indexes(self):\n",
    "        return self.runs.keys()\n",
    "\n",
    "    def __len__(self):\n",
    "        return len(self.runs)\n",
    "\n",
    "    def __getitem__(self, key: int | list):\n",
    "        if isinstance(key, list) or isinstance(key, np.ndarray) or isinstance(key, tuple):\n",
    "            return Runs(runs={k: self.runs[k] for k in key})\n",
    "        elif isinstance(key, int):\n",
    "            return self.runs[key]\n",
    "\n",
    "    def analyze(self, massbar, weight) -> np.array:\n",
    "        # with plt.ioff():\n",
    "        fig, ax = plt.subplots(len(self), 2, figsize=(14, 5 * len(self)))\n",
    "        \n",
    "        # fig, ax = plt.subplots(len(self), 1, figsize=(5, 5 * len(self)))\n",
    "        ret = pd.DataFrame(columns=['N', 'a'])\n",
    "        # ret = pd.DataFrame(columns=['a'])\n",
    "\n",
    "        for i, run_id in enumerate(self.runs.keys()):\n",
    "            run = self.runs[run_id]\n",
    "            w, b = run.plot(x='t', y='v', axis=ax[i, 0])\n",
    "            N, = run.plot(x='t', y='F', axis=ax[i, 1])\n",
    "            ret.loc[run_id] = [N, w]\n",
    "\n",
    "        plt.savefig(f\"./imgs/mass{massbar}-{weight}.png\")\n",
    "        print(f\"./imgs/mass{massbar}-{weight}.png saved\")\n",
    "        # plt.show()\n",
    "        return ret\n"
   ]
  },
  {
   "cell_type": "code",
   "execution_count": 19,
   "metadata": {
    "collapsed": false,
    "ExecuteTime": {
     "end_time": "2023-09-23T05:38:48.918464800Z",
     "start_time": "2023-09-23T05:38:47.857164500Z"
    }
   },
   "outputs": [
    {
     "ename": "SympifyError",
     "evalue": "Sympify of expression 'could not parse '시간 (s) Run 1'' failed, because of exception being raised:\nSyntaxError: invalid syntax (<string>, line 1)",
     "output_type": "error",
     "traceback": [
      "\u001B[1;31m---------------------------------------------------------------------------\u001B[0m",
      "\u001B[1;31mValueError\u001B[0m                                Traceback (most recent call last)",
      "\u001B[1;31mValueError\u001B[0m: Error from parse_expr with transformed code: \"Function ('시간' )(Symbol ('s' ))Symbol ('Run' )Integer (1 )\"",
      "\nThe above exception was the direct cause of the following exception:\n",
      "\u001B[1;31mSyntaxError\u001B[0m                               Traceback (most recent call last)",
      "File \u001B[1;32m~\\AppData\\Local\\Programs\\Python\\Python311\\Lib\\site-packages\\sympy\\core\\sympify.py:495\u001B[0m, in \u001B[0;36msympify\u001B[1;34m(a, locals, convert_xor, strict, rational, evaluate)\u001B[0m\n\u001B[0;32m    494\u001B[0m     a \u001B[38;5;241m=\u001B[39m a\u001B[38;5;241m.\u001B[39mreplace(\u001B[38;5;124m'\u001B[39m\u001B[38;5;130;01m\\n\u001B[39;00m\u001B[38;5;124m'\u001B[39m, \u001B[38;5;124m'\u001B[39m\u001B[38;5;124m'\u001B[39m)\n\u001B[1;32m--> 495\u001B[0m     expr \u001B[38;5;241m=\u001B[39m \u001B[43mparse_expr\u001B[49m\u001B[43m(\u001B[49m\u001B[43ma\u001B[49m\u001B[43m,\u001B[49m\u001B[43m \u001B[49m\u001B[43mlocal_dict\u001B[49m\u001B[38;5;241;43m=\u001B[39;49m\u001B[38;5;28;43mlocals\u001B[39;49m\u001B[43m,\u001B[49m\u001B[43m \u001B[49m\u001B[43mtransformations\u001B[49m\u001B[38;5;241;43m=\u001B[39;49m\u001B[43mtransformations\u001B[49m\u001B[43m,\u001B[49m\u001B[43m \u001B[49m\u001B[43mevaluate\u001B[49m\u001B[38;5;241;43m=\u001B[39;49m\u001B[43mevaluate\u001B[49m\u001B[43m)\u001B[49m\n\u001B[0;32m    496\u001B[0m \u001B[38;5;28;01mexcept\u001B[39;00m (TokenError, \u001B[38;5;167;01mSyntaxError\u001B[39;00m) \u001B[38;5;28;01mas\u001B[39;00m exc:\n",
      "File \u001B[1;32m~\\AppData\\Local\\Programs\\Python\\Python311\\Lib\\site-packages\\sympy\\parsing\\sympy_parser.py:1087\u001B[0m, in \u001B[0;36mparse_expr\u001B[1;34m(s, local_dict, transformations, global_dict, evaluate)\u001B[0m\n\u001B[0;32m   1086\u001B[0m     local_dict[i] \u001B[38;5;241m=\u001B[39m null\n\u001B[1;32m-> 1087\u001B[0m \u001B[38;5;28;01mraise\u001B[39;00m e \u001B[38;5;28;01mfrom\u001B[39;00m \u001B[38;5;21;01mValueError\u001B[39;00m(\u001B[38;5;124mf\u001B[39m\u001B[38;5;124m\"\u001B[39m\u001B[38;5;124mError from parse_expr with transformed code: \u001B[39m\u001B[38;5;132;01m{\u001B[39;00mcode\u001B[38;5;132;01m!r}\u001B[39;00m\u001B[38;5;124m\"\u001B[39m)\n",
      "File \u001B[1;32m~\\AppData\\Local\\Programs\\Python\\Python311\\Lib\\site-packages\\sympy\\parsing\\sympy_parser.py:1078\u001B[0m, in \u001B[0;36mparse_expr\u001B[1;34m(s, local_dict, transformations, global_dict, evaluate)\u001B[0m\n\u001B[0;32m   1077\u001B[0m \u001B[38;5;28;01mtry\u001B[39;00m:\n\u001B[1;32m-> 1078\u001B[0m     rv \u001B[38;5;241m=\u001B[39m \u001B[43meval_expr\u001B[49m\u001B[43m(\u001B[49m\u001B[43mcode\u001B[49m\u001B[43m,\u001B[49m\u001B[43m \u001B[49m\u001B[43mlocal_dict\u001B[49m\u001B[43m,\u001B[49m\u001B[43m \u001B[49m\u001B[43mglobal_dict\u001B[49m\u001B[43m)\u001B[49m\n\u001B[0;32m   1079\u001B[0m     \u001B[38;5;66;03m# restore neutral definitions for names\u001B[39;00m\n",
      "File \u001B[1;32m~\\AppData\\Local\\Programs\\Python\\Python311\\Lib\\site-packages\\sympy\\parsing\\sympy_parser.py:906\u001B[0m, in \u001B[0;36meval_expr\u001B[1;34m(code, local_dict, global_dict)\u001B[0m\n\u001B[0;32m    901\u001B[0m \u001B[38;5;250m\u001B[39m\u001B[38;5;124;03m\"\"\"\u001B[39;00m\n\u001B[0;32m    902\u001B[0m \u001B[38;5;124;03mEvaluate Python code generated by ``stringify_expr``.\u001B[39;00m\n\u001B[0;32m    903\u001B[0m \n\u001B[0;32m    904\u001B[0m \u001B[38;5;124;03mGenerally, ``parse_expr`` should be used.\u001B[39;00m\n\u001B[0;32m    905\u001B[0m \u001B[38;5;124;03m\"\"\"\u001B[39;00m\n\u001B[1;32m--> 906\u001B[0m expr \u001B[38;5;241m=\u001B[39m \u001B[38;5;28;43meval\u001B[39;49m\u001B[43m(\u001B[49m\n\u001B[0;32m    907\u001B[0m \u001B[43m    \u001B[49m\u001B[43mcode\u001B[49m\u001B[43m,\u001B[49m\u001B[43m \u001B[49m\u001B[43mglobal_dict\u001B[49m\u001B[43m,\u001B[49m\u001B[43m \u001B[49m\u001B[43mlocal_dict\u001B[49m\u001B[43m)\u001B[49m  \u001B[38;5;66;03m# take local objects in preference\u001B[39;00m\n\u001B[0;32m    908\u001B[0m \u001B[38;5;28;01mreturn\u001B[39;00m expr\n",
      "\u001B[1;31mSyntaxError\u001B[0m: invalid syntax (<string>, line 1)",
      "\nDuring handling of the above exception, another exception occurred:\n",
      "\u001B[1;31mSympifyError\u001B[0m                              Traceback (most recent call last)",
      "Cell \u001B[1;32mIn[19], line 1\u001B[0m\n\u001B[1;32m----> 1\u001B[0m runs \u001B[38;5;241m=\u001B[39m \u001B[43mRuns\u001B[49m\u001B[43m(\u001B[49m\u001B[38;5;124;43m'\u001B[39;49m\u001B[38;5;124;43m./data/저장된 데이터.csv\u001B[39;49m\u001B[38;5;124;43m'\u001B[39;49m\u001B[43m)\u001B[49m\n\u001B[0;32m      3\u001B[0m \u001B[38;5;28;01mdef\u001B[39;00m \u001B[38;5;21mget\u001B[39m(runs, massbar\u001B[38;5;241m=\u001B[39m\u001B[38;5;241m0\u001B[39m, weight\u001B[38;5;241m=\u001B[39m\u001B[38;5;241m0\u001B[39m):\n\u001B[0;32m      4\u001B[0m     map_list \u001B[38;5;241m=\u001B[39m [\n\u001B[0;32m      5\u001B[0m         [(\u001B[38;5;241m1\u001B[39m, \u001B[38;5;241m2\u001B[39m, \u001B[38;5;241m3\u001B[39m),\n\u001B[0;32m      6\u001B[0m          (\u001B[38;5;241m4\u001B[39m, \u001B[38;5;241m5\u001B[39m, \u001B[38;5;241m6\u001B[39m),\n\u001B[1;32m   (...)\u001B[0m\n\u001B[0;32m     19\u001B[0m          (\u001B[38;5;241m47\u001B[39m, \u001B[38;5;241m48\u001B[39m, \u001B[38;5;241m50\u001B[39m)]\n\u001B[0;32m     20\u001B[0m     ]\n",
      "Cell \u001B[1;32mIn[18], line 90\u001B[0m, in \u001B[0;36mRuns.__init__\u001B[1;34m(self, path, runs)\u001B[0m\n\u001B[0;32m     88\u001B[0m \u001B[38;5;28mself\u001B[39m\u001B[38;5;241m.\u001B[39mruns \u001B[38;5;241m=\u001B[39m {}\n\u001B[0;32m     89\u001B[0m \u001B[38;5;28;01mfor\u001B[39;00m column \u001B[38;5;129;01min\u001B[39;00m data\u001B[38;5;241m.\u001B[39mcolumns:\n\u001B[1;32m---> 90\u001B[0m     matched \u001B[38;5;241m=\u001B[39m \u001B[43mre\u001B[49m\u001B[38;5;241;43m.\u001B[39;49m\u001B[43mmatch\u001B[49m\u001B[43m(\u001B[49m\u001B[38;5;124;43mr\u001B[39;49m\u001B[38;5;124;43m'\u001B[39;49m\u001B[38;5;124;43m([a-zA-Zㄱ-힣, ]+) (\u001B[39;49m\u001B[38;5;124;43m\\\u001B[39;49m\u001B[38;5;124;43m(.*\u001B[39;49m\u001B[38;5;124;43m\\\u001B[39;49m\u001B[38;5;124;43m)) (?:Run|실행) (\u001B[39;49m\u001B[38;5;124;43m\\\u001B[39;49m\u001B[38;5;124;43md+)\u001B[39;49m\u001B[38;5;124;43m'\u001B[39;49m\u001B[43m,\u001B[49m\u001B[43m \u001B[49m\u001B[43mcolumn\u001B[49m\u001B[43m)\u001B[49m\n\u001B[0;32m     92\u001B[0m     \u001B[38;5;28;01mif\u001B[39;00m \u001B[38;5;129;01mnot\u001B[39;00m matched:\n\u001B[0;32m     93\u001B[0m         \u001B[38;5;28;01mcontinue\u001B[39;00m\n",
      "File \u001B[1;32m~\\AppData\\Local\\Programs\\Python\\Python311\\Lib\\site-packages\\sympy\\core\\basic.py:1788\u001B[0m, in \u001B[0;36mBasic.match\u001B[1;34m(self, pattern, old)\u001B[0m\n\u001B[0;32m   1738\u001B[0m \u001B[38;5;28;01mdef\u001B[39;00m \u001B[38;5;21mmatch\u001B[39m(\u001B[38;5;28mself\u001B[39m, pattern, old\u001B[38;5;241m=\u001B[39m\u001B[38;5;28;01mFalse\u001B[39;00m):\n\u001B[0;32m   1739\u001B[0m \u001B[38;5;250m    \u001B[39m\u001B[38;5;124;03m\"\"\"\u001B[39;00m\n\u001B[0;32m   1740\u001B[0m \u001B[38;5;124;03m    Pattern matching.\u001B[39;00m\n\u001B[0;32m   1741\u001B[0m \n\u001B[1;32m   (...)\u001B[0m\n\u001B[0;32m   1786\u001B[0m \n\u001B[0;32m   1787\u001B[0m \u001B[38;5;124;03m    \"\"\"\u001B[39;00m\n\u001B[1;32m-> 1788\u001B[0m     pattern \u001B[38;5;241m=\u001B[39m \u001B[43msympify\u001B[49m\u001B[43m(\u001B[49m\u001B[43mpattern\u001B[49m\u001B[43m)\u001B[49m\n\u001B[0;32m   1789\u001B[0m     \u001B[38;5;66;03m# match non-bound symbols\u001B[39;00m\n\u001B[0;32m   1790\u001B[0m     canonical \u001B[38;5;241m=\u001B[39m \u001B[38;5;28;01mlambda\u001B[39;00m x: x \u001B[38;5;28;01mif\u001B[39;00m x\u001B[38;5;241m.\u001B[39mis_Symbol \u001B[38;5;28;01melse\u001B[39;00m x\u001B[38;5;241m.\u001B[39mas_dummy()\n",
      "File \u001B[1;32m~\\AppData\\Local\\Programs\\Python\\Python311\\Lib\\site-packages\\sympy\\core\\sympify.py:497\u001B[0m, in \u001B[0;36msympify\u001B[1;34m(a, locals, convert_xor, strict, rational, evaluate)\u001B[0m\n\u001B[0;32m    495\u001B[0m     expr \u001B[38;5;241m=\u001B[39m parse_expr(a, local_dict\u001B[38;5;241m=\u001B[39m\u001B[38;5;28mlocals\u001B[39m, transformations\u001B[38;5;241m=\u001B[39mtransformations, evaluate\u001B[38;5;241m=\u001B[39mevaluate)\n\u001B[0;32m    496\u001B[0m \u001B[38;5;28;01mexcept\u001B[39;00m (TokenError, \u001B[38;5;167;01mSyntaxError\u001B[39;00m) \u001B[38;5;28;01mas\u001B[39;00m exc:\n\u001B[1;32m--> 497\u001B[0m     \u001B[38;5;28;01mraise\u001B[39;00m SympifyError(\u001B[38;5;124m'\u001B[39m\u001B[38;5;124mcould not parse \u001B[39m\u001B[38;5;132;01m%r\u001B[39;00m\u001B[38;5;124m'\u001B[39m \u001B[38;5;241m%\u001B[39m a, exc)\n\u001B[0;32m    499\u001B[0m \u001B[38;5;28;01mreturn\u001B[39;00m expr\n",
      "\u001B[1;31mSympifyError\u001B[0m: Sympify of expression 'could not parse '시간 (s) Run 1'' failed, because of exception being raised:\nSyntaxError: invalid syntax (<string>, line 1)"
     ]
    }
   ],
   "source": [
    "runs = Runs('./data/저장된 데이터.csv')\n",
    "\n",
    "def get(runs, massbar=0, weight=0):\n",
    "    map_list = [\n",
    "        [(1, 2, 3),\n",
    "         (4, 5, 6),\n",
    "         (7, 8, 9),\n",
    "         (11, 12, 14),\n",
    "         (15, 16, 18)],\n",
    "        [(19, 20, 21),\n",
    "         (22, 23, 24),\n",
    "         (25, 26, 27),\n",
    "         (28, 29, 30),\n",
    "         (31, 32, 33)],\n",
    "        [(34, 35, 36),\n",
    "         (37, 38, 39),\n",
    "         (41, 42, 43),\n",
    "         (44, 45, 46),\n",
    "         (47, 48, 50)]\n",
    "    ]\n",
    "    \n",
    "    return runs[map_list[massbar][weight // 10 - 1]]"
   ]
  },
  {
   "cell_type": "code",
   "execution_count": null,
   "metadata": {
    "ExecuteTime": {
     "end_time": "2023-09-23T05:38:48.937605600Z",
     "start_time": "2023-09-23T05:38:48.920464700Z"
    }
   },
   "outputs": [],
   "source": [
    "plot = get(runs, massbar=2, weight=30)\n",
    "\n",
    "ret = pd.DataFrame(columns=['N', 'a'])\n",
    "for i in range(3):\n",
    "    for j in range(10, 60, 10):\n",
    "        tmp = get(runs, massbar=i, weight=j).analyze(massbar=i, weight=j)\n",
    "        ret = pd.concat([ret, tmp])\n",
    "        \n",
    "ret"
   ]
  },
  {
   "cell_type": "code",
   "execution_count": null,
   "metadata": {
    "collapsed": false,
    "ExecuteTime": {
     "start_time": "2023-09-23T05:38:48.924462Z"
    }
   },
   "outputs": [],
   "source": [
    "ret.to_excel(\"./data/result.xlsx\")\n",
    "\n",
    "ret"
   ]
  },
  {
   "cell_type": "code",
   "execution_count": null,
   "metadata": {
    "collapsed": false,
    "ExecuteTime": {
     "start_time": "2023-09-23T05:38:48.930074900Z"
    }
   },
   "outputs": [],
   "source": [
    "import numpy as np\n",
    "from sympy import *\n",
    "from sympy.abc import *\n",
    "\n",
    "g = 9.80665\n",
    "μ = 0.0403 / g\n",
    "r = 0.051 / 2\n",
    "I = 7.25214E-08\n",
    "F0 = -0.45868\n",
    "\n",
    "ret['Corrected N'] = ret['N'] - F0\n",
    "\n",
    "ret"
   ]
  },
  {
   "cell_type": "code",
   "execution_count": 20,
   "metadata": {
    "ExecuteTime": {
     "end_time": "2023-09-23T05:38:49.428103500Z",
     "start_time": "2023-09-23T05:38:49.230500300Z"
    }
   },
   "outputs": [
    {
     "data": {
      "text/plain": "           N         a  Corrected N  expected_a  expected_T1  expected_T2\n1  -0.379375  0.491831     0.079305    0.520064     0.140657     0.140599\n2  -0.373165  0.512727     0.085515    0.520064     0.140657     0.140599\n3  -0.375962  0.517931     0.082718    0.520064     0.140657     0.140599\n4  -0.294444  0.835238     0.164236    0.854866     0.224696     0.224600\n5  -0.280685  0.805385     0.177995    0.854866     0.224696     0.224600\n6  -0.289348  0.829600     0.169332    0.854866     0.224696     0.224600\n7  -0.197414  1.125581     0.261266    1.166972     0.303037     0.302907\n8  -0.224118  1.116000     0.234562    1.166972     0.303037     0.302907\n9  -0.220278  1.122857     0.238402    1.166972     0.303037     0.302907\n11 -0.147857  1.424242     0.310823    1.465376     0.377940     0.377776\n12 -0.154815  1.395294     0.303865    1.465376     0.377940     0.377776\n14 -0.149375  1.397895     0.309305    1.465376     0.377940     0.377776\n15  0.029286  1.595556     0.487966    1.737008     0.446122     0.445928\n16  0.040303  1.590000     0.498983    1.737008     0.446122     0.445928\n18  0.041250  1.642353     0.499930    1.737008     0.446122     0.445928\n19 -0.365175  0.260435     0.093505    0.249584     0.144722     0.144694\n20 -0.367317  0.266824     0.091363    0.249584     0.144722     0.144694\n21 -0.369176  0.273636     0.089504    0.249584     0.144722     0.144694\n22 -0.271299  0.428485     0.187381    0.430983     0.235284     0.235235\n23 -0.267115  0.426667     0.191565    0.430983     0.235284     0.235235\n24 -0.269907  0.430986     0.188773    0.430983     0.235284     0.235235\n25 -0.182911  0.605424     0.275769    0.605969     0.322643     0.322576\n26 -0.185152  0.606207     0.273528    0.605969     0.322643     0.322576\n27 -0.193333  0.599322     0.265347    0.605969     0.322643     0.322576\n28 -0.108571  0.757692     0.350109    0.778856     0.408956     0.408869\n29 -0.087802  0.748148     0.370878    0.778856     0.408956     0.408869\n30 -0.109762  0.770000     0.348918    0.778856     0.408956     0.408869\n31  0.053333  0.910000     0.512013    0.941210     0.490009     0.489904\n32 -0.019247  0.902500     0.439433    0.941210     0.490009     0.489904\n33  0.003708  0.913333     0.462388    0.941210     0.490009     0.489904\n34 -0.363697  0.170265     0.094983    0.154038     0.146158     0.146141\n35 -0.364741  0.162857     0.093939    0.154038     0.146158     0.146141\n36 -0.362892  0.172000     0.095788    0.154038     0.146158     0.146141\n37 -0.270353  0.284706     0.188327    0.277637     0.239114     0.239083\n38 -0.269756  0.290244     0.188924    0.277637     0.239114     0.239083\n39 -0.269059  0.284186     0.189621    0.277637     0.239114     0.239083\n41 -0.179848  0.402254     0.278832    0.398349     0.329899     0.329855\n42 -0.183273  0.407869     0.275407    0.398349     0.329899     0.329855\n43 -0.185763  0.409231     0.272917    0.398349     0.329899     0.329855\n44 -0.092714  0.523934     0.365966    0.519072     0.420692     0.420634\n45 -0.083578  0.526102     0.375102    0.519072     0.420692     0.420634\n46 -0.083654  0.525246     0.375026    0.519072     0.420692     0.420634\n47 -0.005878  0.622642     0.452802    0.633782     0.506963     0.506893\n48  0.007313  0.605424     0.465993    0.633782     0.506963     0.506893\n50  0.002490  0.625263     0.461170    0.633782     0.506963     0.506893",
      "text/html": "<div>\n<style scoped>\n    .dataframe tbody tr th:only-of-type {\n        vertical-align: middle;\n    }\n\n    .dataframe tbody tr th {\n        vertical-align: top;\n    }\n\n    .dataframe thead th {\n        text-align: right;\n    }\n</style>\n<table border=\"1\" class=\"dataframe\">\n  <thead>\n    <tr style=\"text-align: right;\">\n      <th></th>\n      <th>N</th>\n      <th>a</th>\n      <th>Corrected N</th>\n      <th>expected_a</th>\n      <th>expected_T1</th>\n      <th>expected_T2</th>\n    </tr>\n  </thead>\n  <tbody>\n    <tr>\n      <th>1</th>\n      <td>-0.379375</td>\n      <td>0.491831</td>\n      <td>0.079305</td>\n      <td>0.520064</td>\n      <td>0.140657</td>\n      <td>0.140599</td>\n    </tr>\n    <tr>\n      <th>2</th>\n      <td>-0.373165</td>\n      <td>0.512727</td>\n      <td>0.085515</td>\n      <td>0.520064</td>\n      <td>0.140657</td>\n      <td>0.140599</td>\n    </tr>\n    <tr>\n      <th>3</th>\n      <td>-0.375962</td>\n      <td>0.517931</td>\n      <td>0.082718</td>\n      <td>0.520064</td>\n      <td>0.140657</td>\n      <td>0.140599</td>\n    </tr>\n    <tr>\n      <th>4</th>\n      <td>-0.294444</td>\n      <td>0.835238</td>\n      <td>0.164236</td>\n      <td>0.854866</td>\n      <td>0.224696</td>\n      <td>0.224600</td>\n    </tr>\n    <tr>\n      <th>5</th>\n      <td>-0.280685</td>\n      <td>0.805385</td>\n      <td>0.177995</td>\n      <td>0.854866</td>\n      <td>0.224696</td>\n      <td>0.224600</td>\n    </tr>\n    <tr>\n      <th>6</th>\n      <td>-0.289348</td>\n      <td>0.829600</td>\n      <td>0.169332</td>\n      <td>0.854866</td>\n      <td>0.224696</td>\n      <td>0.224600</td>\n    </tr>\n    <tr>\n      <th>7</th>\n      <td>-0.197414</td>\n      <td>1.125581</td>\n      <td>0.261266</td>\n      <td>1.166972</td>\n      <td>0.303037</td>\n      <td>0.302907</td>\n    </tr>\n    <tr>\n      <th>8</th>\n      <td>-0.224118</td>\n      <td>1.116000</td>\n      <td>0.234562</td>\n      <td>1.166972</td>\n      <td>0.303037</td>\n      <td>0.302907</td>\n    </tr>\n    <tr>\n      <th>9</th>\n      <td>-0.220278</td>\n      <td>1.122857</td>\n      <td>0.238402</td>\n      <td>1.166972</td>\n      <td>0.303037</td>\n      <td>0.302907</td>\n    </tr>\n    <tr>\n      <th>11</th>\n      <td>-0.147857</td>\n      <td>1.424242</td>\n      <td>0.310823</td>\n      <td>1.465376</td>\n      <td>0.377940</td>\n      <td>0.377776</td>\n    </tr>\n    <tr>\n      <th>12</th>\n      <td>-0.154815</td>\n      <td>1.395294</td>\n      <td>0.303865</td>\n      <td>1.465376</td>\n      <td>0.377940</td>\n      <td>0.377776</td>\n    </tr>\n    <tr>\n      <th>14</th>\n      <td>-0.149375</td>\n      <td>1.397895</td>\n      <td>0.309305</td>\n      <td>1.465376</td>\n      <td>0.377940</td>\n      <td>0.377776</td>\n    </tr>\n    <tr>\n      <th>15</th>\n      <td>0.029286</td>\n      <td>1.595556</td>\n      <td>0.487966</td>\n      <td>1.737008</td>\n      <td>0.446122</td>\n      <td>0.445928</td>\n    </tr>\n    <tr>\n      <th>16</th>\n      <td>0.040303</td>\n      <td>1.590000</td>\n      <td>0.498983</td>\n      <td>1.737008</td>\n      <td>0.446122</td>\n      <td>0.445928</td>\n    </tr>\n    <tr>\n      <th>18</th>\n      <td>0.041250</td>\n      <td>1.642353</td>\n      <td>0.499930</td>\n      <td>1.737008</td>\n      <td>0.446122</td>\n      <td>0.445928</td>\n    </tr>\n    <tr>\n      <th>19</th>\n      <td>-0.365175</td>\n      <td>0.260435</td>\n      <td>0.093505</td>\n      <td>0.249584</td>\n      <td>0.144722</td>\n      <td>0.144694</td>\n    </tr>\n    <tr>\n      <th>20</th>\n      <td>-0.367317</td>\n      <td>0.266824</td>\n      <td>0.091363</td>\n      <td>0.249584</td>\n      <td>0.144722</td>\n      <td>0.144694</td>\n    </tr>\n    <tr>\n      <th>21</th>\n      <td>-0.369176</td>\n      <td>0.273636</td>\n      <td>0.089504</td>\n      <td>0.249584</td>\n      <td>0.144722</td>\n      <td>0.144694</td>\n    </tr>\n    <tr>\n      <th>22</th>\n      <td>-0.271299</td>\n      <td>0.428485</td>\n      <td>0.187381</td>\n      <td>0.430983</td>\n      <td>0.235284</td>\n      <td>0.235235</td>\n    </tr>\n    <tr>\n      <th>23</th>\n      <td>-0.267115</td>\n      <td>0.426667</td>\n      <td>0.191565</td>\n      <td>0.430983</td>\n      <td>0.235284</td>\n      <td>0.235235</td>\n    </tr>\n    <tr>\n      <th>24</th>\n      <td>-0.269907</td>\n      <td>0.430986</td>\n      <td>0.188773</td>\n      <td>0.430983</td>\n      <td>0.235284</td>\n      <td>0.235235</td>\n    </tr>\n    <tr>\n      <th>25</th>\n      <td>-0.182911</td>\n      <td>0.605424</td>\n      <td>0.275769</td>\n      <td>0.605969</td>\n      <td>0.322643</td>\n      <td>0.322576</td>\n    </tr>\n    <tr>\n      <th>26</th>\n      <td>-0.185152</td>\n      <td>0.606207</td>\n      <td>0.273528</td>\n      <td>0.605969</td>\n      <td>0.322643</td>\n      <td>0.322576</td>\n    </tr>\n    <tr>\n      <th>27</th>\n      <td>-0.193333</td>\n      <td>0.599322</td>\n      <td>0.265347</td>\n      <td>0.605969</td>\n      <td>0.322643</td>\n      <td>0.322576</td>\n    </tr>\n    <tr>\n      <th>28</th>\n      <td>-0.108571</td>\n      <td>0.757692</td>\n      <td>0.350109</td>\n      <td>0.778856</td>\n      <td>0.408956</td>\n      <td>0.408869</td>\n    </tr>\n    <tr>\n      <th>29</th>\n      <td>-0.087802</td>\n      <td>0.748148</td>\n      <td>0.370878</td>\n      <td>0.778856</td>\n      <td>0.408956</td>\n      <td>0.408869</td>\n    </tr>\n    <tr>\n      <th>30</th>\n      <td>-0.109762</td>\n      <td>0.770000</td>\n      <td>0.348918</td>\n      <td>0.778856</td>\n      <td>0.408956</td>\n      <td>0.408869</td>\n    </tr>\n    <tr>\n      <th>31</th>\n      <td>0.053333</td>\n      <td>0.910000</td>\n      <td>0.512013</td>\n      <td>0.941210</td>\n      <td>0.490009</td>\n      <td>0.489904</td>\n    </tr>\n    <tr>\n      <th>32</th>\n      <td>-0.019247</td>\n      <td>0.902500</td>\n      <td>0.439433</td>\n      <td>0.941210</td>\n      <td>0.490009</td>\n      <td>0.489904</td>\n    </tr>\n    <tr>\n      <th>33</th>\n      <td>0.003708</td>\n      <td>0.913333</td>\n      <td>0.462388</td>\n      <td>0.941210</td>\n      <td>0.490009</td>\n      <td>0.489904</td>\n    </tr>\n    <tr>\n      <th>34</th>\n      <td>-0.363697</td>\n      <td>0.170265</td>\n      <td>0.094983</td>\n      <td>0.154038</td>\n      <td>0.146158</td>\n      <td>0.146141</td>\n    </tr>\n    <tr>\n      <th>35</th>\n      <td>-0.364741</td>\n      <td>0.162857</td>\n      <td>0.093939</td>\n      <td>0.154038</td>\n      <td>0.146158</td>\n      <td>0.146141</td>\n    </tr>\n    <tr>\n      <th>36</th>\n      <td>-0.362892</td>\n      <td>0.172000</td>\n      <td>0.095788</td>\n      <td>0.154038</td>\n      <td>0.146158</td>\n      <td>0.146141</td>\n    </tr>\n    <tr>\n      <th>37</th>\n      <td>-0.270353</td>\n      <td>0.284706</td>\n      <td>0.188327</td>\n      <td>0.277637</td>\n      <td>0.239114</td>\n      <td>0.239083</td>\n    </tr>\n    <tr>\n      <th>38</th>\n      <td>-0.269756</td>\n      <td>0.290244</td>\n      <td>0.188924</td>\n      <td>0.277637</td>\n      <td>0.239114</td>\n      <td>0.239083</td>\n    </tr>\n    <tr>\n      <th>39</th>\n      <td>-0.269059</td>\n      <td>0.284186</td>\n      <td>0.189621</td>\n      <td>0.277637</td>\n      <td>0.239114</td>\n      <td>0.239083</td>\n    </tr>\n    <tr>\n      <th>41</th>\n      <td>-0.179848</td>\n      <td>0.402254</td>\n      <td>0.278832</td>\n      <td>0.398349</td>\n      <td>0.329899</td>\n      <td>0.329855</td>\n    </tr>\n    <tr>\n      <th>42</th>\n      <td>-0.183273</td>\n      <td>0.407869</td>\n      <td>0.275407</td>\n      <td>0.398349</td>\n      <td>0.329899</td>\n      <td>0.329855</td>\n    </tr>\n    <tr>\n      <th>43</th>\n      <td>-0.185763</td>\n      <td>0.409231</td>\n      <td>0.272917</td>\n      <td>0.398349</td>\n      <td>0.329899</td>\n      <td>0.329855</td>\n    </tr>\n    <tr>\n      <th>44</th>\n      <td>-0.092714</td>\n      <td>0.523934</td>\n      <td>0.365966</td>\n      <td>0.519072</td>\n      <td>0.420692</td>\n      <td>0.420634</td>\n    </tr>\n    <tr>\n      <th>45</th>\n      <td>-0.083578</td>\n      <td>0.526102</td>\n      <td>0.375102</td>\n      <td>0.519072</td>\n      <td>0.420692</td>\n      <td>0.420634</td>\n    </tr>\n    <tr>\n      <th>46</th>\n      <td>-0.083654</td>\n      <td>0.525246</td>\n      <td>0.375026</td>\n      <td>0.519072</td>\n      <td>0.420692</td>\n      <td>0.420634</td>\n    </tr>\n    <tr>\n      <th>47</th>\n      <td>-0.005878</td>\n      <td>0.622642</td>\n      <td>0.452802</td>\n      <td>0.633782</td>\n      <td>0.506963</td>\n      <td>0.506893</td>\n    </tr>\n    <tr>\n      <th>48</th>\n      <td>0.007313</td>\n      <td>0.605424</td>\n      <td>0.465993</td>\n      <td>0.633782</td>\n      <td>0.506963</td>\n      <td>0.506893</td>\n    </tr>\n    <tr>\n      <th>50</th>\n      <td>0.002490</td>\n      <td>0.625263</td>\n      <td>0.461170</td>\n      <td>0.633782</td>\n      <td>0.506963</td>\n      <td>0.506893</td>\n    </tr>\n  </tbody>\n</table>\n</div>"
     },
     "execution_count": 20,
     "metadata": {},
     "output_type": "execute_result"
    }
   ],
   "source": [
    "bar_masses = np.array((248.23, 252.84)) / 1000\n",
    "weights = np.array((9.97, 9.95, 9.97, 20.2 - 9.97, 9.97)) / 1000\n",
    "hook_mass = np.array(5.17) / 1000\n",
    "cart_mass = np.array(251.01) / 1000\n",
    "\n",
    "expected_a = pd.Series()\n",
    "expected_T1 = pd.Series()\n",
    "expected_T2 = pd.Series()\n",
    "\n",
    "for i, run_id in enumerate(ret.index):\n",
    "    massbar_count = i // 15\n",
    "    weight_count = (i // 3) % 5 + 1\n",
    "\n",
    "    M = cart_mass + sum(bar_masses[:massbar_count])\n",
    "    m = hook_mass + sum(weights[:weight_count])\n",
    "\n",
    "    a = ((m - μ*M) / (M + m - I/r**2)) * g\n",
    "    T1 = M*(a + μ*g)\n",
    "    T2 = m*(g - a)\n",
    "\n",
    "    expected_a[run_id] = a\n",
    "    expected_T1[run_id] = T1\n",
    "    expected_T2[run_id] = T2\n",
    "\n",
    "ret['expected_a'] = expected_a\n",
    "ret['expected_T1'] = expected_T1\n",
    "ret['expected_T2'] = expected_T2\n",
    "\n",
    "ret.to_excel(\"./data/result.xlsx\")\n",
    "\n",
    "ret"
   ]
  },
  {
   "cell_type": "code",
   "execution_count": 20,
   "metadata": {
    "ExecuteTime": {
     "end_time": "2023-09-23T05:38:49.593483700Z",
     "start_time": "2023-09-23T05:38:49.466382800Z"
    }
   },
   "outputs": [],
   "source": []
  }
 ],
 "metadata": {
  "kernelspec": {
   "display_name": "Python 3",
   "language": "python",
   "name": "python3"
  },
  "language_info": {
   "codemirror_mode": {
    "name": "ipython",
    "version": 3
   },
   "file_extension": ".py",
   "mimetype": "text/x-python",
   "name": "python",
   "nbconvert_exporter": "python",
   "pygments_lexer": "ipython3",
   "version": "3.11.4"
  },
  "orig_nbformat": 4
 },
 "nbformat": 4,
 "nbformat_minor": 2
}
